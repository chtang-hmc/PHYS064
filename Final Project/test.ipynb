{
 "cells": [
  {
   "cell_type": "markdown",
   "metadata": {},
   "source": [
    "## PHYS 64 Final Project - Simulating Quantum Computers with Error"
   ]
  },
  {
   "cell_type": "code",
   "execution_count": 7,
   "metadata": {},
   "outputs": [],
   "source": [
    "import numpy as np\n",
    "from qiskit import QuantumCircuit\n",
    "\n",
    "# create a quantum circuit on 3 qubits\n",
    "qc = QuantumCircuit(3)\n",
    "\n",
    "class MyQuantumCircuit(QuantumCircuit):\n",
    "    def __init__(self, n):\n",
    "        super().__init__(n)\n",
    "        \n",
    "    def x(self, q, error = 0, seed = 0):\n",
    "        np.random.seed(seed)\n",
    "        error = np.random.normal(0, error)\n",
    "        # apply x gate to qubit q\n",
    "        super().x(q)\n",
    "        \n",
    "        # add an error gate that doesn't show up in the circuit diagram\n",
    "        if error > 0:\n",
    "            super().u(error, 0, 0, q)\n",
    "        \n",
    "        return self\n",
    "    \n",
    "    def z(self, q, error = 0, seed = 0):\n",
    "        np.random.seed(seed)\n",
    "        error = np.random.normal(0, error)\n",
    "        # apply z gate to qubit q\n",
    "        super().z(q)\n",
    "        \n",
    "        # add an error gate that doesn't show up in the circuit diagram\n",
    "        if error > 0:\n",
    "            super().u(0, 0, error, q)\n",
    "        \n",
    "        return self\n",
    "    \n",
    "    def h(self, q, error = 0, seed = 0):\n",
    "        np.random.seed(seed)\n",
    "        error = np.random.normal(0, error)\n",
    "        # apply h gate to qubit q\n",
    "        super().h(q)\n",
    "        \n",
    "        # add an error gate that doesn't show up in the circuit diagram\n",
    "        if error > 0:\n",
    "            super().u(error, error, error, q)\n",
    "        \n",
    "        return self"
   ]
  },
  {
   "cell_type": "code",
   "execution_count": 8,
   "metadata": {},
   "outputs": [],
   "source": [
    "qc = MyQuantumCircuit(3)\n",
    "qc.h(0, 0.1)\n",
    "qc.h(1, 0.1)\n",
    "qc.h(2, 0.1)\n",
    "qc.draw(output='mpl')\n",
    "\n",
    "from qiskit.quantum_info import Statevector\n",
    "\n",
    "def get_state(qc):\n",
    "    return Statevector.from_instruction(qc).data\n",
    "\n",
    "def get_amplitudes(qc):\n",
    "    return np.abs(get_state(qc))**2\n",
    "\n",
    "def states(qc):\n",
    "    # get a list of basis states\n",
    "    n = qc.num_qubits\n",
    "    states = [format(i, '0'+str(n)+'b') for i in range(2**n)]\n",
    "    # make states-statevector dictionary\n",
    "    sv = np.round(get_state(qc), 3)\n",
    "    states_dict = dict(zip(states, sv))\n",
    "    return states_dict"
   ]
  },
  {
   "cell_type": "code",
   "execution_count": 1,
   "metadata": {},
   "outputs": [],
   "source": [
    "from qiskit import QuantumRegister, ClassicalRegister, QuantumCircuit"
   ]
  },
  {
   "cell_type": "code",
   "execution_count": 2,
   "metadata": {},
   "outputs": [],
   "source": [
    "def error_correction(qc, x_ancillas, z_ancillas, logical_qubit, x_syndrome, z_syndrome):\n",
    "    # Make sure inputs are valid\n",
    "    if not isinstance(qc, QuantumCircuit):\n",
    "        raise TypeError(\"'qc', should be a QuantumCircuit\")\n",
    "    \n",
    "    if not isinstance(x_ancillas, QuantumRegister):\n",
    "        raise TypeError(\"'x_ancillas' should be a QuantumRegister\")\n",
    "    elif x_ancillas.size != 3:\n",
    "        raise TypeError(\"'x_ancillas' must have 3 qubits\")\n",
    "        \n",
    "    if not isinstance(z_ancillas, QuantumRegister):\n",
    "        raise TypeError(\"'z_ancillas' should be a QuantumRegister\")\n",
    "    elif z_ancillas.size != 3:\n",
    "        raise TypeError(\"'z_ancillas' must have 3 qubits\")\n",
    "    \n",
    "    if not isinstance(logical_qubit, QuantumRegister):\n",
    "        raise TypeError(\"'logical_qubit' should be a QuantumRegister\")\n",
    "    elif logical_qubit.size != 7:\n",
    "        raise TypeError(\"'logical_qubit' must have 7 qubits\")\n",
    "    \n",
    "    if not isinstance(x_syndrome, ClassicalRegister):\n",
    "        raise TypeError(\"'x_syndrome' should be a ClassicalRegister\")\n",
    "    elif x_syndrome.size != 3:\n",
    "        raise TypeError(\"'x_syndrome' must have 3 bits\")\n",
    "        \n",
    "    if not isinstance(z_syndrome, ClassicalRegister):\n",
    "        raise TypeError(\"'z_syndrome' should be a ClassicalRegister\")\n",
    "    elif z_syndrome.size != 3:\n",
    "        raise TypeError(\"'z_syndrome' must have 3 bits\")\n",
    "        \n",
    "    # Initialize the ancillas to |0>\n",
    "    for i in range(3):\n",
    "        qc.initialize([1,0], x_ancillas[i])\n",
    "        qc.initialize([1,0], z_ancillas[i])\n",
    "        \n",
    "    # Apply Hadamard to the ancillas\n",
    "    qc.h(x_ancillas)\n",
    "    qc.h(z_ancillas)\n",
    "    \n",
    "    # Controlled g_i\n",
    "    qc.cx(z_ancillas[2], [logical_qubit[i-1] for i in [4,5,6,7]]) # Controlled g1\n",
    "    qc.cx(z_ancillas[1], [logical_qubit[i-1] for i in [2,3,6,7]]) # Controlled g2\n",
    "    qc.cx(z_ancillas[0], [logical_qubit[i-1] for i in [1,3,5,7]]) # Controlled g3\n",
    "    \n",
    "    qc.cz(x_ancillas[2], [logical_qubit[i-1] for i in [4,5,6,7]]) # Controlled g4\n",
    "    qc.cz(x_ancillas[1], [logical_qubit[i-1] for i in [2,3,6,7]]) # Controlled g5\n",
    "    qc.cz(x_ancillas[0], [logical_qubit[i-1] for i in [1,3,5,7]]) # Controlled g6\n",
    "    \n",
    "    # Apply Hadamard to the ancillas\n",
    "    qc.h(x_ancillas)\n",
    "    qc.h(z_ancillas)\n",
    "    \n",
    "    # Measure the ancillas\n",
    "    qc.measure(x_ancillas, x_syndrome)\n",
    "    qc.measure(z_ancillas,z_syndrome)\n",
    "    \n",
    "    # Apply the corrective X gates\n",
    "    for i in range(1,8):\n",
    "        qc.x(logical_qubit[i-1]).c_if(x_syndrome,i)\n",
    "    \n",
    "    # Apply the corrective Z gates\n",
    "    for i in range(1,8):\n",
    "        qc.z(logical_qubit[i-1]).c_if(z_syndrome,i)"
   ]
  },
  {
   "cell_type": "code",
   "execution_count": 13,
   "metadata": {},
   "outputs": [],
   "source": [
    "lq = QuantumRegister(7)\n",
    "x_anc  = QuantumRegister(3)\n",
    "x_syn  = ClassicalRegister(3)\n",
    "z_anc  = QuantumRegister(3)\n",
    "z_syn  = ClassicalRegister(3)"
   ]
  },
  {
   "cell_type": "code",
   "execution_count": 14,
   "metadata": {},
   "outputs": [],
   "source": [
    "qc = QuantumCircuit(x_anc,z_anc,lq,x_syn,z_syn)\n",
    "error_correction(qc, x_anc, z_anc, lq, x_syn, z_syn)"
   ]
  },
  {
   "cell_type": "code",
   "execution_count": 21,
   "metadata": {},
   "outputs": [
    {
     "ename": "ImportError",
     "evalue": "cannot import name 'execute' from 'qiskit' (/Library/Frameworks/Python.framework/Versions/3.11/lib/python3.11/site-packages/qiskit/__init__.py)",
     "output_type": "error",
     "traceback": [
      "\u001b[0;31m---------------------------------------------------------------------------\u001b[0m",
      "\u001b[0;31mImportError\u001b[0m                               Traceback (most recent call last)",
      "Cell \u001b[0;32mIn[21], line 1\u001b[0m\n\u001b[0;32m----> 1\u001b[0m \u001b[38;5;28;01mfrom\u001b[39;00m \u001b[38;5;21;01mqiskit\u001b[39;00m \u001b[38;5;28;01mimport\u001b[39;00m execute\n\u001b[1;32m      2\u001b[0m result \u001b[38;5;241m=\u001b[39m execute(qc, sv_sim)\u001b[38;5;241m.\u001b[39mresult()\n\u001b[1;32m      3\u001b[0m sv \u001b[38;5;241m=\u001b[39m result\u001b[38;5;241m.\u001b[39mget_statevector()\n",
      "\u001b[0;31mImportError\u001b[0m: cannot import name 'execute' from 'qiskit' (/Library/Frameworks/Python.framework/Versions/3.11/lib/python3.11/site-packages/qiskit/__init__.py)"
     ]
    }
   ],
   "source": [
    "from qiskit import execute\n",
    "result = execute(qc, sv_sim).result()\n",
    "sv = result.get_statevector()"
   ]
  },
  {
   "cell_type": "code",
   "execution_count": null,
   "metadata": {},
   "outputs": [],
   "source": []
  }
 ],
 "metadata": {
  "kernelspec": {
   "display_name": "base",
   "language": "python",
   "name": "python3"
  },
  "language_info": {
   "codemirror_mode": {
    "name": "ipython",
    "version": 3
   },
   "file_extension": ".py",
   "mimetype": "text/x-python",
   "name": "python",
   "nbconvert_exporter": "python",
   "pygments_lexer": "ipython3",
   "version": "3.11.5"
  }
 },
 "nbformat": 4,
 "nbformat_minor": 2
}
