{
 "cells": [
  {
   "cell_type": "markdown",
   "metadata": {},
   "source": [
    "## PHYS 64 Final Project - Simulating Quantum Computers with Error"
   ]
  },
  {
   "cell_type": "code",
   "execution_count": 92,
   "metadata": {},
   "outputs": [],
   "source": [
    "import numpy as np\n",
    "from qiskit import QuantumCircuit\n",
    "\n",
    "# create a quantum circuit on 3 qubits\n",
    "qc = QuantumCircuit(3)\n",
    "\n",
    "class QC(QuantumCircuit):\n",
    "    def __init__(self, n):\n",
    "        super().__init__(n)\n",
    "        \n",
    "    def x(self, q, error = 0, seed = 0):\n",
    "        np.random.seed(seed)\n",
    "        error = np.random.normal(0, error)\n",
    "        # apply x gate to qubit q\n",
    "        super().x(q)\n",
    "        \n",
    "        # add an error gate that doesn't show up in the circuit diagram\n",
    "        if error > 0:\n",
    "            super().u(error, 0, 0, q)\n",
    "        \n",
    "        return self\n",
    "    \n",
    "    def z(self, q, error = 0, seed = 0):\n",
    "        np.random.seed(seed)\n",
    "        error = np.random.normal(0, error)\n",
    "        # apply z gate to qubit q\n",
    "        super().z(q)\n",
    "        \n",
    "        # add an error gate that doesn't show up in the circuit diagram\n",
    "        if error > 0:\n",
    "            super().u(0, 0, error, q)\n",
    "        \n",
    "        return self\n",
    "    \n",
    "    def h(self, q, error = 0, seed = 0):\n",
    "        np.random.seed(seed)\n",
    "        error = np.random.normal(0, error)\n",
    "        # apply h gate to qubit q\n",
    "        super().h(q)\n",
    "        \n",
    "        # add an error gate that doesn't show up in the circuit diagram\n",
    "        if error > 0:\n",
    "            super().u(error, error, error, q)\n",
    "        \n",
    "        return self"
   ]
  },
  {
   "cell_type": "code",
   "execution_count": 93,
   "metadata": {},
   "outputs": [],
   "source": [
    "qc = MyQuantumCircuit(3)\n",
    "qc.h(0, 0.1)\n",
    "qc.h(1, 0.1)\n",
    "qc.h(2, 0.1)\n",
    "qc.draw(output='mpl')\n",
    "\n",
    "from qiskit.quantum_info import Statevector\n",
    "\n",
    "def get_state(qc):\n",
    "    return Statevector.from_instruction(qc).data\n",
    "\n",
    "def get_amplitudes(qc):\n",
    "    return np.abs(get_state(qc))**2\n",
    "\n",
    "def states(qc):\n",
    "    # get a list of basis states\n",
    "    n = qc.num_qubits\n",
    "    states = [format(i, '0'+str(n)+'b') for i in range(2**n)]\n",
    "    # make states-statevector dictionary\n",
    "    sv = np.round(get_state(qc), 3)\n",
    "    states_dict = dict(zip(states, sv))\n",
    "    return states_dict"
   ]
  },
  {
   "cell_type": "code",
   "execution_count": null,
   "metadata": {},
   "outputs": [],
   "source": []
  }
 ],
 "metadata": {
  "kernelspec": {
   "display_name": "base",
   "language": "python",
   "name": "python3"
  },
  "language_info": {
   "codemirror_mode": {
    "name": "ipython",
    "version": 3
   },
   "file_extension": ".py",
   "mimetype": "text/x-python",
   "name": "python",
   "nbconvert_exporter": "python",
   "pygments_lexer": "ipython3",
   "version": "3.11.5"
  }
 },
 "nbformat": 4,
 "nbformat_minor": 2
}
