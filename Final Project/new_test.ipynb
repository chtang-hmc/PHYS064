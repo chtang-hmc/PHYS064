{
 "cells": [
  {
   "cell_type": "code",
   "execution_count": 2,
   "metadata": {},
   "outputs": [],
   "source": [
    "import numpy as np\n",
    "import scipy as sp"
   ]
  },
  {
   "cell_type": "code",
   "execution_count": 3,
   "metadata": {},
   "outputs": [],
   "source": [
    "class QC:\n",
    "    def __init__(self, n):\n",
    "        self.n = n\n",
    "        self.dm = np.zeros((2**n, 2**n), dtype = complex)\n",
    "        self.dm[0, 0] = 1\n",
    "        \n",
    "    ### gates ###\n",
    "    \n",
    "    def _single_qubit_gate(self, q, gate):\n",
    "        ''' Apply single qubit gate to qubit q '''\n",
    "        \n",
    "        # create the gate\n",
    "        if q == 1:\n",
    "            gate = np.kron(gate, np.eye(2**(self.n-1)))\n",
    "        elif q == self.n:\n",
    "            gate = np.kron(np.eye(2**(self.n-1)), gate)\n",
    "        else:\n",
    "            gate = np.kron(np.kron(np.eye(2**(q-1)), gate), np.eye(2**(self.n-q)))\n",
    "            \n",
    "        # apply gate\n",
    "        self.dm = np.dot(np.dot(gate, self.dm), np.conj(gate).T)\n",
    "    \n",
    "    def x(self, q, error = 0, seed = 0):\n",
    "        ''' Apply X gate to qubit q '''\n",
    "        \n",
    "        x = np.array([[0, 1], [1, 0]], dtype = complex)\n",
    "        \n",
    "        self._single_qubit_gate(q, x)\n",
    "        \n",
    "    def y(self, q):\n",
    "        ''' Apply Y gate to qubit q '''\n",
    "        \n",
    "        y = np.array([[0, -1j], [1j, 0]], dtype = complex)\n",
    "        \n",
    "        self._single_qubit_gate(q, y)\n",
    "        \n",
    "    def z(self, q):\n",
    "        ''' Apply Z gate to qubit q '''\n",
    "        \n",
    "        z = np.array([[1, 0], [0, -1]], dtype = complex)\n",
    "        \n",
    "        self._single_qubit_gate(q, z)\n",
    "        \n",
    "    def h(self, q):\n",
    "        ''' Apply H gate to qubit q '''\n",
    "        \n",
    "        h = np.array([[1, 1], [1, -1]], dtype = complex) / np.sqrt(2)\n",
    "        \n",
    "        self._single_qubit_gate(q, h)\n",
    "        \n",
    "    def u3(self, q, theta, phi, lam):\n",
    "        ''' Apply U3 gate to qubit q '''\n",
    "        \n",
    "        u3 = np.array([[np.cos(theta/2), -np.exp(1j*lam)*np.sin(theta/2)], [np.exp(1j*phi)*np.sin(theta/2), np.exp(1j*(phi+lam))*np.cos(theta/2)]], dtype = complex)\n",
    "        \n",
    "        self._single_qubit_gate(q, u3)\n",
    "        \n",
    "    def rx(self, q, theta):\n",
    "        ''' Apply RX gate to qubit q '''\n",
    "        \n",
    "        rx = np.array([[np.cos(theta/2), -1j*np.sin(theta/2)], [-1j*np.sin(theta/2), np.cos(theta/2)]], dtype = complex)\n",
    "        \n",
    "        self._single_qubit_gate(q, rx)\n",
    "        \n",
    "    def ry(self, q, theta):\n",
    "        ''' Apply RY gate to qubit q '''\n",
    "        \n",
    "        ry = np.array([[np.cos(theta/2), -np.sin(theta/2)], [np.sin(theta/2), np.cos(theta/2)]], dtype = complex)\n",
    "                      \n",
    "        self._single_qubit_gate(q, ry)\n",
    "        \n",
    "    def rz(self, q, theta):\n",
    "        ''' Apply RZ gate to qubit q '''\n",
    "        \n",
    "        rz = np.array([[np.exp(-1j*theta/2), 0], [0, np.exp(1j*theta/2)]], dtype = complex)\n",
    "                      \n",
    "        self._single_qubit_gate(q, rz)\n",
    "        \n",
    "    def controlled_gates(self, control, target, gate):\n",
    "        ''' Apply controlled gate '''\n",
    "        \n",
    "        pass\n",
    "        \n",
    "    def create_equal_superposition(self):\n",
    "        ''' Create equal superposition of all qubits '''\n",
    "        \n",
    "        if self.dm[0,0] == 1:\n",
    "            self.dm = np.ones((2**self.n, 2**self.n), dtype = complex) / 2**self.n\n",
    "        else:\n",
    "            for i in range(1, self.n+1):\n",
    "                self.h(i)\n",
    "                \n",
    "    ### generate error ###\n",
    "    "
   ]
  },
  {
   "cell_type": "code",
   "execution_count": 11,
   "metadata": {},
   "outputs": [
    {
     "data": {
      "text/plain": [
       "array([[0.+0.j, 0.+0.j, 0.+0.j, ..., 0.+0.j, 0.+0.j, 0.+0.j],\n",
       "       [0.+0.j, 0.+0.j, 0.+0.j, ..., 0.+0.j, 0.+0.j, 0.+0.j],\n",
       "       [0.+0.j, 0.+0.j, 0.+0.j, ..., 0.+0.j, 0.+0.j, 0.+0.j],\n",
       "       ...,\n",
       "       [0.+0.j, 0.+0.j, 0.+0.j, ..., 0.+0.j, 0.+0.j, 0.+0.j],\n",
       "       [0.+0.j, 0.+0.j, 0.+0.j, ..., 0.+0.j, 0.+0.j, 0.+0.j],\n",
       "       [0.+0.j, 0.+0.j, 0.+0.j, ..., 0.+0.j, 0.+0.j, 0.+0.j]])"
      ]
     },
     "execution_count": 11,
     "metadata": {},
     "output_type": "execute_result"
    }
   ],
   "source": [
    "qc = QC(8)\n",
    "qc.x(3)\n",
    "qc.dm"
   ]
  },
  {
   "cell_type": "code",
   "execution_count": null,
   "metadata": {},
   "outputs": [],
   "source": []
  }
 ],
 "metadata": {
  "kernelspec": {
   "display_name": "Python 3",
   "language": "python",
   "name": "python3"
  },
  "language_info": {
   "codemirror_mode": {
    "name": "ipython",
    "version": 3
   },
   "file_extension": ".py",
   "mimetype": "text/x-python",
   "name": "python",
   "nbconvert_exporter": "python",
   "pygments_lexer": "ipython3",
   "version": "3.11.5"
  }
 },
 "nbformat": 4,
 "nbformat_minor": 2
}
