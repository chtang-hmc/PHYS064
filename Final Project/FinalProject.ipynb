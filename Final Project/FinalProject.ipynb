{
 "cells": [
  {
   "cell_type": "markdown",
   "metadata": {},
   "source": [
    "# Simulating Quantum Errors"
   ]
  },
  {
   "cell_type": "markdown",
   "metadata": {},
   "source": [
    "Author: Chengyi Tang\n",
    "\n",
    "Date: April 28, 2024\n",
    "\n",
    "Course: PHYS064 - Mathematical and Computational Methods for Physicists"
   ]
  },
  {
   "cell_type": "markdown",
   "metadata": {},
   "source": [
    "In this project, I will introduce errors in quantum computing, build composite noise models, then apply noise models to quantum circuits to test their impact. For basics of quantum computing and quantum errors, please consult the writeup portion of this project."
   ]
  },
  {
   "cell_type": "code",
   "execution_count": 2,
   "metadata": {},
   "outputs": [],
   "source": [
    "import numpy as np\n",
    "from qiskit import QuantumCircuit, transpile, QuantumRegister, ClassicalRegister\n",
    "from qiskit.quantum_info import Kraus, SuperOp\n",
    "from qiskit_aer import AerSimulator\n",
    "from qiskit.visualization import plot_histogram\n",
    "from qiskit_aer.noise import (NoiseModel, QuantumError, ReadoutError,\n",
    "    pauli_error, depolarizing_error, thermal_relaxation_error)"
   ]
  },
  {
   "cell_type": "markdown",
   "metadata": {},
   "source": [
    "## Constructing Quantum Errors"
   ]
  },
  {
   "cell_type": "markdown",
   "metadata": {},
   "source": [
    "Some code in this section is taken from qiskit documentation at https://qiskit.github.io/qiskit-aer/tutorials/4_custom_gate_noise.html."
   ]
  },
  {
   "cell_type": "markdown",
   "metadata": {},
   "source": [
    "### Single Qubit Errors"
   ]
  },
  {
   "cell_type": "markdown",
   "metadata": {},
   "source": [
    "The most basic types of errors in quantum computing are bit-flip and phase-flip errors. Given a quantum state $\\ket{\\psi} = \\alpha \\ket{0} + \\beta \\ket{1}$, the bit-flip error changes the state to $\\ket{\\psi} = \\beta \\ket{0} + \\alpha \\ket{1}$ and the phase-flip error changes the state to $\\ket{\\psi} = \\alpha \\ket{0} - \\beta \\ket{1}$. In the following code, we assume a 5% error rate:"
   ]
  },
  {
   "cell_type": "code",
   "execution_count": 3,
   "metadata": {},
   "outputs": [
    {
     "name": "stdout",
     "output_type": "stream",
     "text": [
      "QuantumError on 1 qubits. Noise circuits:\n",
      "  P(0) = 0.05, Circuit = \n",
      "   ┌───┐\n",
      "q: ┤ X ├\n",
      "   └───┘\n",
      "  P(1) = 0.95, Circuit = \n",
      "   ┌───┐\n",
      "q: ┤ I ├\n",
      "   └───┘\n",
      "QuantumError on 1 qubits. Noise circuits:\n",
      "  P(0) = 0.05, Circuit = \n",
      "   ┌───┐\n",
      "q: ┤ Z ├\n",
      "   └───┘\n",
      "  P(1) = 0.95, Circuit = \n",
      "   ┌───┐\n",
      "q: ┤ I ├\n",
      "   └───┘\n"
     ]
    }
   ],
   "source": [
    "# Construct a 1-qubit bit-flip and phase-flip errors\n",
    "p_error = 0.05\n",
    "bit_flip = pauli_error([('X', p_error), ('I', 1 - p_error)])\n",
    "phase_flip = pauli_error([('Z', p_error), ('I', 1 - p_error)])\n",
    "print(bit_flip)\n",
    "print(phase_flip)"
   ]
  },
  {
   "cell_type": "markdown",
   "metadata": {},
   "source": [
    "We can also construct composite errors:"
   ]
  },
  {
   "cell_type": "code",
   "execution_count": 4,
   "metadata": {},
   "outputs": [
    {
     "name": "stdout",
     "output_type": "stream",
     "text": [
      "QuantumError on 1 qubits. Noise circuits:\n",
      "  P(0) = 0.0025000000000000005, Circuit = \n",
      "   ┌───┐┌───┐\n",
      "q: ┤ X ├┤ Z ├\n",
      "   └───┘└───┘\n",
      "  P(1) = 0.0475, Circuit = \n",
      "   ┌───┐┌───┐\n",
      "q: ┤ X ├┤ I ├\n",
      "   └───┘└───┘\n",
      "  P(2) = 0.0475, Circuit = \n",
      "   ┌───┐┌───┐\n",
      "q: ┤ I ├┤ Z ├\n",
      "   └───┘└───┘\n",
      "  P(3) = 0.9025, Circuit = \n",
      "   ┌───┐┌───┐\n",
      "q: ┤ I ├┤ I ├\n",
      "   └───┘└───┘\n"
     ]
    }
   ],
   "source": [
    "# Compose two bit-flip and phase-flip errors\n",
    "bitphase_flip = bit_flip.compose(phase_flip)\n",
    "print(bitphase_flip)"
   ]
  },
  {
   "cell_type": "markdown",
   "metadata": {},
   "source": [
    "The four types of errors above form a complete basis for all the single-qubit errors that could occur."
   ]
  },
  {
   "cell_type": "markdown",
   "metadata": {},
   "source": [
    "Another type of error that could occurs is a readout error, where the recorded classical value differes from the actual measured value:"
   ]
  },
  {
   "cell_type": "code",
   "execution_count": 5,
   "metadata": {},
   "outputs": [
    {
     "name": "stdout",
     "output_type": "stream",
     "text": [
      "ReadoutError on 1 qubits. Assignment probabilities:\n",
      " P(j|0) =  [0.9 0.1]\n",
      " P(j|1) =  [0.25 0.75]\n"
     ]
    }
   ],
   "source": [
    "readout_error = ReadoutError([[0.9, 0.1], [0.25, 0.75]])\n",
    "print(readout_error)"
   ]
  },
  {
   "cell_type": "markdown",
   "metadata": {},
   "source": [
    "### Multiple Qubit Errors and Noise Models"
   ]
  },
  {
   "cell_type": "markdown",
   "metadata": {},
   "source": [
    "The first way to construct multiple-qubit errors is by performing the tenwor product of two errors:"
   ]
  },
  {
   "cell_type": "code",
   "execution_count": 6,
   "metadata": {},
   "outputs": [
    {
     "name": "stdout",
     "output_type": "stream",
     "text": [
      "QuantumError on 2 qubits. Noise circuits:\n",
      "  P(0) = 0.0025000000000000005, Circuit = \n",
      "     ┌───┐\n",
      "q_0: ┤ X ├\n",
      "     ├───┤\n",
      "q_1: ┤ Z ├\n",
      "     └───┘\n",
      "  P(1) = 0.0475, Circuit = \n",
      "     ┌───┐\n",
      "q_0: ┤ I ├\n",
      "     ├───┤\n",
      "q_1: ┤ Z ├\n",
      "     └───┘\n",
      "  P(2) = 0.0475, Circuit = \n",
      "     ┌───┐\n",
      "q_0: ┤ X ├\n",
      "     ├───┤\n",
      "q_1: ┤ I ├\n",
      "     └───┘\n",
      "  P(3) = 0.9025, Circuit = \n",
      "     ┌───┐\n",
      "q_0: ┤ I ├\n",
      "     ├───┤\n",
      "q_1: ┤ I ├\n",
      "     └───┘\n"
     ]
    }
   ],
   "source": [
    "# Tensor product two bit-flip and phase-flip errors with\n",
    "# bit-flip on qubit-0, phase-flip on qubit-1\n",
    "error2 = phase_flip.tensor(bit_flip)\n",
    "print(error2)"
   ]
  },
  {
   "cell_type": "markdown",
   "metadata": {},
   "source": [
    "A more comprehensive way that combines composition and tensor products is a **noise model**, where we can specify the type of instruction it performs and which qubits it is applied to. We can perform errors on all qubits on specific qubits, which allows us to fine-tune our noise models."
   ]
  },
  {
   "cell_type": "markdown",
   "metadata": {},
   "source": [
    "We start with an all-qubit error with depolarizing errors. Depolarizing errors describes the decoherence of quantum information due to the interaction between a qubit and is environment."
   ]
  },
  {
   "cell_type": "code",
   "execution_count": 7,
   "metadata": {},
   "outputs": [
    {
     "name": "stdout",
     "output_type": "stream",
     "text": [
      "NoiseModel:\n",
      "  Basis gates: ['cx', 'id', 'rz', 'sx', 'u1', 'u2', 'u3']\n",
      "  Instructions with noise: ['u3', 'u1', 'u2']\n",
      "  All-qubits errors: ['u1', 'u2', 'u3']\n"
     ]
    }
   ],
   "source": [
    "# Create the Noise Model\n",
    "noise_model_0 = NoiseModel()\n",
    "\n",
    "# Add depolarizing error to all single qubit u1, u2, u3 gates\n",
    "d_error = depolarizing_error(0.05, 1)\n",
    "noise_model_0.add_all_qubit_quantum_error(d_error, ['u1', 'u2', 'u3'], [0])\n",
    "\n",
    "print(noise_model_0)"
   ]
  },
  {
   "cell_type": "markdown",
   "metadata": {},
   "source": [
    "We can specify which qubit we want to apply the error to by using the `add_quantum_error` function and specifying which qubits have errors associated with them:"
   ]
  },
  {
   "cell_type": "code",
   "execution_count": 8,
   "metadata": {},
   "outputs": [
    {
     "name": "stdout",
     "output_type": "stream",
     "text": [
      "NoiseModel:\n",
      "  Basis gates: ['cx', 'id', 'rz', 'sx', 'u1', 'u2', 'u3']\n",
      "  Instructions with noise: ['u3', 'u1', 'u2']\n",
      "  Qubits with noise: [0]\n",
      "  Specific qubit errors: [('u1', (0,)), ('u2', (0,)), ('u3', (0,))]\n"
     ]
    }
   ],
   "source": [
    "noise_model_1 = NoiseModel()\n",
    "\n",
    "noise_model_1.add_quantum_error(d_error, ['u1', 'u2', 'u3'], [0])\n",
    "\n",
    "print(noise_model_1)"
   ]
  },
  {
   "cell_type": "markdown",
   "metadata": {},
   "source": [
    "Now we have specific qubit errors!"
   ]
  },
  {
   "cell_type": "markdown",
   "metadata": {},
   "source": [
    "### Testing the Noise Models"
   ]
  },
  {
   "cell_type": "markdown",
   "metadata": {},
   "source": [
    "Now we can test our noise models to see that they are actually outputting the errors we expect. To do this, we first construct a circuit with qiskit's `QuantumCircuit` class:"
   ]
  },
  {
   "cell_type": "code",
   "execution_count": 9,
   "metadata": {},
   "outputs": [
    {
     "data": {
      "image/png": "[encoded data removed]",
      "text/plain": [
       "<Figure size 496.776x284.278 with 1 Axes>"
      ]
     },
     "execution_count": 9,
     "metadata": {},
     "output_type": "execute_result"
    }
   ],
   "source": [
    "# create circuit object\n",
    "qc_test = QuantumCircuit(2)\n",
    "\n",
    "qc_test.x(0)\n",
    "qc_test.z(1)\n",
    "qc_test.measure_all()\n",
    "\n",
    "# visualize the circuit\n",
    "qc_test.draw('mpl')"
   ]
  },
  {
   "cell_type": "markdown",
   "metadata": {},
   "source": [
    "For reference, we first run an ideal simulation of the circuit. Theoretically, the above circuit should output completely $\\ket{01}$:"
   ]
  },
  {
   "cell_type": "code",
   "execution_count": 10,
   "metadata": {},
   "outputs": [],
   "source": [
    "def get_multiple_counts(n_shots, qc, backend):\n",
    "    '''\n",
    "    run the circuit qc n_shots times on the backend and return the counts\n",
    "    '''\n",
    "    counts = {}\n",
    "    for run in range(n_shots):\n",
    "        result = backend.run(qc).result()\n",
    "        result_counts = result.get_counts()\n",
    "        for key in result_counts:\n",
    "            if key in counts:\n",
    "                counts[key] += result_counts[key]\n",
    "            else:\n",
    "                counts[key] = result_counts[key]\n",
    "    return counts"
   ]
  },
  {
   "cell_type": "code",
   "execution_count": 11,
   "metadata": {},
   "outputs": [
    {
     "data": {
      "image/png": "[encoded data removed]",
      "text/plain": [
       "<Figure size 700x500 with 1 Axes>"
      ]
     },
     "execution_count": 11,
     "metadata": {},
     "output_type": "execute_result"
    }
   ],
   "source": [
    "# create a backend\n",
    "sim_ideal = AerSimulator()\n",
    "\n",
    "# run the simulation 10 times since Aer only returns 1024 shots\n",
    "counts_ideal = get_multiple_counts(10, qc_test, sim_ideal)\n",
    "plot_histogram(counts_ideal)\n"
   ]
  },
  {
   "cell_type": "markdown",
   "metadata": {},
   "source": [
    "They are all $\\ket{01}$, as expected. Now we execute a noisy simulatioin with `noise_model_0`, which is the decoherence noise model we constructed above:"
   ]
  },
  {
   "cell_type": "code",
   "execution_count": 13,
   "metadata": {},
   "outputs": [
    {
     "data": {
      "image/png": "[encoded data removed]",
      "text/plain": [
       "<Figure size 700x500 with 1 Axes>"
      ]
     },
     "execution_count": 13,
     "metadata": {},
     "output_type": "execute_result"
    }
   ],
   "source": [
    "sim_noise = AerSimulator(noise_model=noise_model_0)\n",
    "qc_test_tnoise = transpile(qc_test, sim_noise)\n",
    "\n",
    "counts_noise = get_multiple_counts(10, qc_test_tnoise, sim_noise)\n",
    "plot_histogram(counts_noise)"
   ]
  },
  {
   "cell_type": "markdown",
   "metadata": {},
   "source": [
    "Now there is not only $\\ket{01}$ present! We have single and double bit-flip errors (phase flip errors won't show up while measuring).\n",
    "\n",
    "We can calculate the total variation distance (TVD) of this run, which calculates how much the noisy result matches the ideal result. The TVD ranges form 0 to 1. TVD values closer to 1 indicate greater deviation from the ideal run."
   ]
  },
  {
   "cell_type": "code",
   "execution_count": 25,
   "metadata": {},
   "outputs": [],
   "source": [
    "def get_tvd(ideal_counts, noisy_counts):\n",
    "    # Get the union of keys from both distributions\n",
    "    all_keys = set(ideal_counts.keys()) | set(noisy_counts.keys())\n",
    "\n",
    "    # Calculate the total variation distance\n",
    "    total_shots = sum(ideal_counts.values()) + sum(noisy_counts.values())\n",
    "    tvd = 0.5 * sum(abs(ideal_counts.get(key, 0) - noisy_counts.get(key, 0)) for key in all_keys) / total_shots\n",
    "    print(f'Total Variation Distance: {tvd:.5f}')\n",
    "    return tvd"
   ]
  },
  {
   "cell_type": "code",
   "execution_count": 15,
   "metadata": {},
   "outputs": [
    {
     "name": "stdout",
     "output_type": "stream",
     "text": [
      "Total Variation Distance: 0.02397\n"
     ]
    }
   ],
   "source": [
    "# Calculate the total variation distance\n",
    "tvd = get_tvd(counts_ideal, counts_noise)"
   ]
  },
  {
   "cell_type": "markdown",
   "metadata": {},
   "source": [
    "Now, the noise clearly affects our result, but the TVD is still arbitrarily small. Decoherence has caused accidental X, Z, and XZ errors on our whole circuit. If we apply the noise model only on the first qubit, we would get instead:"
   ]
  },
  {
   "cell_type": "code",
   "execution_count": 16,
   "metadata": {},
   "outputs": [
    {
     "data": {
      "image/png": "[encoded data removed]",
      "text/plain": [
       "<Figure size 700x500 with 1 Axes>"
      ]
     },
     "execution_count": 16,
     "metadata": {},
     "output_type": "execute_result"
    }
   ],
   "source": [
    "sim_noise = AerSimulator(noise_model=noise_model_1)\n",
    "qc_test_tnoise = transpile(qc_test, sim_noise) # transpile the circuit into gates in sim_noise; we can do this from universal gate decomposition\n",
    "\n",
    "counts_noise = get_multiple_counts(10, qc_test_tnoise, sim_noise)\n",
    "plot_histogram(counts_noise)"
   ]
  },
  {
   "cell_type": "markdown",
   "metadata": {},
   "source": [
    "Now, there are only errors on the first qubit. We calculate a TVD again:"
   ]
  },
  {
   "cell_type": "code",
   "execution_count": 17,
   "metadata": {},
   "outputs": [
    {
     "name": "stdout",
     "output_type": "stream",
     "text": [
      "Total Variation Distance: 0.01294\n"
     ]
    }
   ],
   "source": [
    "tvd = get_tvd(counts_ideal, counts_noise)"
   ]
  },
  {
   "cell_type": "markdown",
   "metadata": {},
   "source": [
    "We see that the TVD while there is only error on the first qubit is only half of the TVD while there is error on both qubits."
   ]
  },
  {
   "cell_type": "markdown",
   "metadata": {},
   "source": [
    "## Applying Quantum Errors"
   ]
  },
  {
   "cell_type": "markdown",
   "metadata": {},
   "source": [
    "### Shor's Algorithm Implementation"
   ]
  },
  {
   "cell_type": "markdown",
   "metadata": {},
   "source": [
    "In this part, we want to construct one of the most iconoic quantum algorithms - Shor's algorithm for factoring - but with noise. The QFT part of my code is taken from an official qiskit tutorial: https://github.com/Qiskit/textbook/blob/main/notebooks/ch-algorithms/shor.ipynb. The I modified the code to allow for simulation with errors.\n",
    "\n",
    "The details of Shor's algorithm belongs to a separate project, so I will not explain here. Simply speaking, Shor's algorithm factors integers exponentially faster then classical algorithms, making it one of the most powerful quantum algorithms ever invented."
   ]
  },
  {
   "cell_type": "code",
   "execution_count": 12,
   "metadata": {},
   "outputs": [],
   "source": [
    "import matplotlib.pyplot as plt\n",
    "from math import gcd\n",
    "from numpy.random import randint\n",
    "import pandas as pd\n",
    "from fractions import Fraction"
   ]
  },
  {
   "cell_type": "code",
   "execution_count": 13,
   "metadata": {},
   "outputs": [],
   "source": [
    "# create modular exponential gates\n",
    "def c_amod15(a, power):\n",
    "    \"\"\"Controlled multiplication by a mod 15\"\"\"\n",
    "    if a not in [2,4,7,8,11,13]:\n",
    "        raise ValueError(\"'a' must be 2,4,7,8,11 or 13\")\n",
    "    U = QuantumCircuit(4)\n",
    "    for _iteration in range(power):\n",
    "        if a in [2,13]:\n",
    "            U.swap(2,3)\n",
    "            U.swap(1,2)\n",
    "            U.swap(0,1)\n",
    "        if a in [7,8]:\n",
    "            U.swap(0,1)\n",
    "            U.swap(1,2)\n",
    "            U.swap(2,3)\n",
    "        if a in [4, 11]:\n",
    "            U.swap(1,3)\n",
    "            U.swap(0,2)\n",
    "        if a in [7,11,13]:\n",
    "            for q in range(4):\n",
    "                U.x(q)\n",
    "    U = U.to_gate()\n",
    "    U.name = f\"{a}^{power} mod 15\"\n",
    "    c_U = U.control()\n",
    "    return c_U"
   ]
  },
  {
   "cell_type": "code",
   "execution_count": 14,
   "metadata": {},
   "outputs": [],
   "source": [
    "# Specify variables\n",
    "N_COUNT = 8  # number of counting qubits\n",
    "a = 7"
   ]
  },
  {
   "cell_type": "code",
   "execution_count": 15,
   "metadata": {},
   "outputs": [],
   "source": [
    "def qft_dagger(n):\n",
    "    \"\"\"n-qubit QFTdagger the first n qubits in circ\"\"\"\n",
    "    qc = QuantumCircuit(n)\n",
    "    # Don't forget the Swaps!\n",
    "    for qubit in range(n//2):\n",
    "        qc.swap(qubit, n-qubit-1)\n",
    "    for j in range(n):\n",
    "        for m in range(j):\n",
    "            qc.cp(-np.pi/float(2**(j-m)), m, j)\n",
    "        qc.h(j)\n",
    "    qc.name = \"QFT†\"\n",
    "    return qc"
   ]
  },
  {
   "cell_type": "code",
   "execution_count": 22,
   "metadata": {},
   "outputs": [
    {
     "data": {
      "image/png": "[encoded data removed]",
      "text/plain": [
       "<Figure size 3064.69x1120.39 with 1 Axes>"
      ]
     },
     "execution_count": 22,
     "metadata": {},
     "output_type": "execute_result"
    }
   ],
   "source": [
    "# Create QuantumCircuit with N_COUNT counting qubits\n",
    "# plus 4 qubits for U to act on\n",
    "qc = QuantumCircuit(N_COUNT + 4, N_COUNT)\n",
    "\n",
    "# Initialize counting qubits\n",
    "# in state |+>\n",
    "for q in range(N_COUNT):\n",
    "    qc.h(q)\n",
    "\n",
    "# And auxiliary register in state |1>\n",
    "qc.x(N_COUNT)\n",
    "\n",
    "# Do controlled-U operations\n",
    "for q in range(N_COUNT):\n",
    "    qc.append(c_amod15(a, 2**q),\n",
    "             [q] + [i+N_COUNT for i in range(4)])\n",
    "\n",
    "# Do inverse-QFT\n",
    "qc.append(qft_dagger(N_COUNT), range(N_COUNT))\n",
    "\n",
    "# Measure circuit\n",
    "qc.measure(range(N_COUNT), range(N_COUNT))\n",
    "qc.draw('mpl', fold=-1)  # -1 means 'do not fold'"
   ]
  },
  {
   "cell_type": "markdown",
   "metadata": {},
   "source": [
    "The above circuit is the complete circuit for Shor's algorithm, involving controleld modular exponentiation and inverse quantum fourier transforms."
   ]
  },
  {
   "cell_type": "markdown",
   "metadata": {},
   "source": [
    "### Running Shor's Algorithm"
   ]
  },
  {
   "cell_type": "markdown",
   "metadata": {},
   "source": [
    "Now we run Shor's algorithm with an ideal backend:"
   ]
  },
  {
   "cell_type": "code",
   "execution_count": 23,
   "metadata": {},
   "outputs": [
    {
     "data": {
      "image/png": "[encoded data removed]",
      "text/plain": [
       "<Figure size 700x500 with 1 Axes>"
      ]
     },
     "execution_count": 23,
     "metadata": {},
     "output_type": "execute_result"
    }
   ],
   "source": [
    "sim_ideal = AerSimulator()\n",
    "t_qc = transpile(qc, sim_ideal)\n",
    "\n",
    "# run the simulation 10 times since Aer only returns 1024 shots\n",
    "counts_ideal = get_multiple_counts(10, t_qc, sim_ideal)\n",
    "plot_histogram(counts_ideal)"
   ]
  },
  {
   "cell_type": "markdown",
   "metadata": {},
   "source": [
    "The simulation returns an (approximately) equal number of $\\ket{00000000}, \\ket{01000000}, \\ket{10000000}$, and $\\ket{11000000}$. Each of the results represent a possible period in the inverse quantum Fourier transform. Here, there are a maximum of 4 possible periods. Now we proceed with the algorithm to find the associated phases and eventually factors from Shor's algorithm:"
   ]
  },
  {
   "cell_type": "code",
   "execution_count": 16,
   "metadata": {},
   "outputs": [],
   "source": [
    "def get_phases(counts, N_COUNT):\n",
    "    rows, measured_phases = [], []\n",
    "    for output in counts:\n",
    "        decimal = int(output, 2)  # Convert (base 2) string to decimal\n",
    "        phase = decimal/(2**N_COUNT)  # Find corresponding eigenvalue\n",
    "        measured_phases.append(phase)\n",
    "        frac = Fraction(phase).limit_denominator(15)\n",
    "        rows.append([phase,\n",
    "                    f\"{frac.numerator}/{frac.denominator}\",\n",
    "                    frac.denominator])\n",
    "    # Print as a table\n",
    "    headers=[\"Phase\", \"Fraction\", \"Guess for r\"]\n",
    "    df = pd.DataFrame(rows, columns=headers)\n",
    "    return df"
   ]
  },
  {
   "cell_type": "code",
   "execution_count": 25,
   "metadata": {},
   "outputs": [
    {
     "data": {
      "text/html": [
       "<div>\n",
       "<style scoped>\n",
       "    .dataframe tbody tr th:only-of-type {\n",
       "        vertical-align: middle;\n",
       "    }\n",
       "\n",
       "    .dataframe tbody tr th {\n",
       "        vertical-align: top;\n",
       "    }\n",
       "\n",
       "    .dataframe thead th {\n",
       "        text-align: right;\n",
       "    }\n",
       "</style>\n",
       "<table border=\"1\" class=\"dataframe\">\n",
       "  <thead>\n",
       "    <tr style=\"text-align: right;\">\n",
       "      <th></th>\n",
       "      <th>Phase</th>\n",
       "      <th>Fraction</th>\n",
       "      <th>Guess for r</th>\n",
       "    </tr>\n",
       "  </thead>\n",
       "  <tbody>\n",
       "    <tr>\n",
       "      <th>0</th>\n",
       "      <td>0.00</td>\n",
       "      <td>0/1</td>\n",
       "      <td>1</td>\n",
       "    </tr>\n",
       "    <tr>\n",
       "      <th>1</th>\n",
       "      <td>0.50</td>\n",
       "      <td>1/2</td>\n",
       "      <td>2</td>\n",
       "    </tr>\n",
       "    <tr>\n",
       "      <th>2</th>\n",
       "      <td>0.75</td>\n",
       "      <td>3/4</td>\n",
       "      <td>4</td>\n",
       "    </tr>\n",
       "    <tr>\n",
       "      <th>3</th>\n",
       "      <td>0.25</td>\n",
       "      <td>1/4</td>\n",
       "      <td>4</td>\n",
       "    </tr>\n",
       "  </tbody>\n",
       "</table>\n",
       "</div>"
      ],
      "text/plain": [
       "   Phase Fraction  Guess for r\n",
       "0   0.00      0/1            1\n",
       "1   0.50      1/2            2\n",
       "2   0.75      3/4            4\n",
       "3   0.25      1/4            4"
      ]
     },
     "execution_count": 25,
     "metadata": {},
     "output_type": "execute_result"
    }
   ],
   "source": [
    "get_phases(counts_ideal, N_COUNT)"
   ]
  },
  {
   "cell_type": "code",
   "execution_count": 17,
   "metadata": {},
   "outputs": [],
   "source": [
    "def qpe_amod15(a, N_COUNT, noise_model = None):\n",
    "    \"\"\"Performs quantum phase estimation on the operation a*r mod 15.\n",
    "    Args:\n",
    "        a (int): This is 'a' in a*r mod 15\n",
    "    Returns:\n",
    "        float: Estimate of the phase\n",
    "    \"\"\"\n",
    "    qc = QuantumCircuit(4+N_COUNT, N_COUNT)\n",
    "    for q in range(N_COUNT):\n",
    "        qc.h(q)     # Initialize counting qubits in state |+>\n",
    "    qc.x(N_COUNT) # And auxiliary register in state |1>\n",
    "    for q in range(N_COUNT): # Do controlled-U operations\n",
    "        qc.append(c_amod15(a, 2**q),\n",
    "                 [q] + [i+N_COUNT for i in range(4)])\n",
    "    qc.append(qft_dagger(N_COUNT), range(N_COUNT)) # Do inverse-QFT\n",
    "    qc.measure(range(N_COUNT), range(N_COUNT))\n",
    "    # Simulate Results\n",
    "    aer_sim = AerSimulator(noise_model=noise_model)\n",
    "    # `memory=True` tells the backend to save each measurement in a list\n",
    "    job = aer_sim.run(transpile(qc, aer_sim), shots=1, memory=True)\n",
    "    readings = job.result().get_memory()\n",
    "    print(\"Register Reading: \" + readings[0])\n",
    "    phase = int(readings[0],2)/(2**N_COUNT)\n",
    "    print(f\"Corresponding Phase: {phase}\")\n",
    "    return phase"
   ]
  },
  {
   "cell_type": "code",
   "execution_count": 18,
   "metadata": {},
   "outputs": [],
   "source": [
    "def Shor(a, N, noise_model=None):\n",
    "    '''\n",
    "    Shor's Algorithm for factoring\n",
    "    Args:\n",
    "        a (int): The base of the exponentiation\n",
    "        N (int): The number to factor\n",
    "        noise_model (NoiseModel): The noise model to apply to the simulation\n",
    "    Returns:\n",
    "        factors (list): The non-trivial factors of N\n",
    "    '''\n",
    "    phase = qpe_amod15(a, 8, noise_model)\n",
    "    FACTOR_FOUND = False\n",
    "    ATTEMPT = 0\n",
    "    factors = []\n",
    "    while not FACTOR_FOUND:\n",
    "        ATTEMPT += 1\n",
    "        print(f\"\\nATTEMPT {ATTEMPT}:\")\n",
    "        phase = qpe_amod15(a, 8, noise_model) # Phase = s/r\n",
    "        frac = Fraction(phase).limit_denominator(N)\n",
    "        r = frac.denominator\n",
    "        print(f\"Result: r = {r}\")\n",
    "        if phase != 0:\n",
    "            # Guesses for factors are gcd(x^{r/2} ±1 , 15)\n",
    "            guesses = [gcd(a**(r//2)-1, N), gcd(a**(r//2)+1, N)]\n",
    "            print(f\"Guessed Factors: {guesses[0]} and {guesses[1]}\")\n",
    "            for guess in guesses:\n",
    "                if guess not in [1,N] and (N % guess) == 0:\n",
    "                    # Guess is a factor!\n",
    "                    factors.append(guess)\n",
    "                    print(f\"*** Non-trivial factor found: {guess} ***\")\n",
    "                    FACTOR_FOUND = True\n",
    "    return factors"
   ]
  },
  {
   "cell_type": "code",
   "execution_count": 28,
   "metadata": {},
   "outputs": [
    {
     "name": "stdout",
     "output_type": "stream",
     "text": [
      "Register Reading: 01000000\n",
      "Corresponding Phase: 0.25\n",
      "\n",
      "ATTEMPT 1:\n",
      "Register Reading: 01000000\n",
      "Corresponding Phase: 0.25\n",
      "Result: r = 4\n",
      "Guessed Factors: 3 and 5\n",
      "*** Non-trivial factor found: 3 ***\n",
      "*** Non-trivial factor found: 5 ***\n"
     ]
    },
    {
     "data": {
      "text/plain": [
       "[3, 5]"
      ]
     },
     "execution_count": 28,
     "metadata": {},
     "output_type": "execute_result"
    }
   ],
   "source": [
    "Shor(8, 15)"
   ]
  },
  {
   "cell_type": "markdown",
   "metadata": {},
   "source": [
    "Shor's algorithm works, as expected. We are able to factor 15 at first attempt with a relatively short run time (1.1s). Note that since we used 11 qubits, we are operating on $\\mathcal{O}(2^{11})$ space and time!"
   ]
  },
  {
   "cell_type": "markdown",
   "metadata": {},
   "source": [
    "### Construct General Noise Model"
   ]
  },
  {
   "cell_type": "markdown",
   "metadata": {},
   "source": [
    "Now that we show that Shor's algorithm works, we will apply a noise model to the algorithm and compare the results with the ideal case. The noise model we will use is the thermal relaxation model. There are two types of relaxation: (1) T1 relaxation (energy relaxation), in which the excited state decays towards the ground state $\\ket{1}$ goes to $\\ket{0}$; (2) T2 relaxation (dephasing), in which the phase difference between $\\ket{0}$ and $\\ket{1}$ decays over time."
   ]
  },
  {
   "cell_type": "code",
   "execution_count": 19,
   "metadata": {},
   "outputs": [],
   "source": [
    "# Create the noise model\n",
    "noise_model = NoiseModel()"
   ]
  },
  {
   "cell_type": "markdown",
   "metadata": {},
   "source": [
    "Now we add the thermal relaxation errors:"
   ]
  },
  {
   "cell_type": "code",
   "execution_count": 20,
   "metadata": {},
   "outputs": [
    {
     "name": "stdout",
     "output_type": "stream",
     "text": [
      "NoiseModel:\n",
      "  Basis gates: ['cx', 'id', 'rz', 'sx', 'u2', 'u3']\n",
      "  Instructions with noise: ['reset', 'u2', 'cx', 'measure', 'u3']\n",
      "  Qubits with noise: [0, 1, 2, 3, 4, 5, 6, 7]\n",
      "  Specific qubit errors: [('reset', (0,)), ('reset', (1,)), ('reset', (2,)), ('reset', (3,)), ('reset', (4,)), ('reset', (5,)), ('reset', (6,)), ('reset', (7,)), ('measure', (0,)), ('measure', (1,)), ('measure', (2,)), ('measure', (3,)), ('measure', (4,)), ('measure', (5,)), ('measure', (6,)), ('measure', (7,)), ('u2', (0,)), ('u2', (1,)), ('u2', (2,)), ('u2', (3,)), ('u2', (4,)), ('u2', (5,)), ('u2', (6,)), ('u2', (7,)), ('u3', (0,)), ('u3', (1,)), ('u3', (2,)), ('u3', (3,)), ('u3', (4,)), ('u3', (5,)), ('u3', (6,)), ('u3', (7,)), ('cx', (0, 0)), ('cx', (0, 1)), ('cx', (0, 2)), ('cx', (0, 3)), ('cx', (0, 4)), ('cx', (0, 5)), ('cx', (0, 6)), ('cx', (0, 7)), ('cx', (1, 0)), ('cx', (1, 1)), ('cx', (1, 2)), ('cx', (1, 3)), ('cx', (1, 4)), ('cx', (1, 5)), ('cx', (1, 6)), ('cx', (1, 7)), ('cx', (2, 0)), ('cx', (2, 1)), ('cx', (2, 2)), ('cx', (2, 3)), ('cx', (2, 4)), ('cx', (2, 5)), ('cx', (2, 6)), ('cx', (2, 7)), ('cx', (3, 0)), ('cx', (3, 1)), ('cx', (3, 2)), ('cx', (3, 3)), ('cx', (3, 4)), ('cx', (3, 5)), ('cx', (3, 6)), ('cx', (3, 7)), ('cx', (4, 0)), ('cx', (4, 1)), ('cx', (4, 2)), ('cx', (4, 3)), ('cx', (4, 4)), ('cx', (4, 5)), ('cx', (4, 6)), ('cx', (4, 7)), ('cx', (5, 0)), ('cx', (5, 1)), ('cx', (5, 2)), ('cx', (5, 3)), ('cx', (5, 4)), ('cx', (5, 5)), ('cx', (5, 6)), ('cx', (5, 7)), ('cx', (6, 0)), ('cx', (6, 1)), ('cx', (6, 2)), ('cx', (6, 3)), ('cx', (6, 4)), ('cx', (6, 5)), ('cx', (6, 6)), ('cx', (6, 7)), ('cx', (7, 0)), ('cx', (7, 1)), ('cx', (7, 2)), ('cx', (7, 3)), ('cx', (7, 4)), ('cx', (7, 5)), ('cx', (7, 6)), ('cx', (7, 7))]\n"
     ]
    }
   ],
   "source": [
    "def create_thermal_model(noise_model, n):\n",
    "    # T1 and T2 values for qubits 0-(n-1)\n",
    "    T1s = np.random.normal(50e3, 10e3, n) # Sampled from normal distribution mean 50 microsec\n",
    "    T2s = np.random.normal(70e3, 10e3, n)  # Sampled from normal distribution mean 50 microsec\n",
    "\n",
    "    # Truncate random T2s <= T1s\n",
    "    T2s = np.array([min(T2s[j], 2 * T1s[j]) for j in range(n)])\n",
    "\n",
    "    # Instruction times (in nanoseconds)\n",
    "    time_u1 = 0   # virtual gate\n",
    "    time_u2 = 50  # (single X90 pulse)\n",
    "    time_u3 = 100 # (two X90 pulses)\n",
    "    time_cx = 300\n",
    "    time_reset = 1000  # 1 microsecond\n",
    "    time_measure = 1000 # 1 microsecond\n",
    "\n",
    "    # QuantumError objects\n",
    "    errors_reset = [thermal_relaxation_error(t1, t2, time_reset)\n",
    "                    for t1, t2 in zip(T1s, T2s)]\n",
    "    errors_measure = [thermal_relaxation_error(t1, t2, time_measure)\n",
    "                    for t1, t2 in zip(T1s, T2s)]\n",
    "    errors_u1  = [thermal_relaxation_error(t1, t2, time_u1)\n",
    "                for t1, t2 in zip(T1s, T2s)]\n",
    "    errors_u2  = [thermal_relaxation_error(t1, t2, time_u2)\n",
    "                for t1, t2 in zip(T1s, T2s)]\n",
    "    errors_u3  = [thermal_relaxation_error(t1, t2, time_u3)\n",
    "                for t1, t2 in zip(T1s, T2s)]\n",
    "    errors_cx = [[thermal_relaxation_error(t1a, t2a, time_cx).expand(\n",
    "                thermal_relaxation_error(t1b, t2b, time_cx))\n",
    "                for t1a, t2a in zip(T1s, T2s)]\n",
    "                for t1b, t2b in zip(T1s, T2s)]\n",
    "\n",
    "    # Add errors to noise model\n",
    "    for j in range(n):\n",
    "        noise_model.add_quantum_error(errors_reset[j], \"reset\", [j])\n",
    "        noise_model.add_quantum_error(errors_measure[j], \"measure\", [j])\n",
    "        noise_model.add_quantum_error(errors_u1[j], \"u1\", [j])\n",
    "        noise_model.add_quantum_error(errors_u2[j], \"u2\", [j])\n",
    "        noise_model.add_quantum_error(errors_u3[j], \"u3\", [j])\n",
    "        for k in range(n):\n",
    "            noise_model.add_quantum_error(errors_cx[j][k], \"cx\", [j, k])\n",
    "\n",
    "create_thermal_model(noise_model, 8)\n",
    "print(noise_model)"
   ]
  },
  {
   "cell_type": "code",
   "execution_count": 31,
   "metadata": {},
   "outputs": [],
   "source": [
    "sim_noise = AerSimulator(noise_model=noise_model)\n",
    "t_qc_noise = transpile(qc, sim_noise)\n",
    "\n",
    "# run the simulation\n",
    "counts_noise = get_multiple_counts(1, t_qc_noise, sim_noise)"
   ]
  },
  {
   "cell_type": "code",
   "execution_count": 32,
   "metadata": {},
   "outputs": [
    {
     "data": {
      "text/plain": [
       "190"
      ]
     },
     "execution_count": 32,
     "metadata": {},
     "output_type": "execute_result"
    }
   ],
   "source": [
    "len(counts_noise)"
   ]
  },
  {
   "cell_type": "markdown",
   "metadata": {},
   "source": [
    "Since we measured 8 qubits, we see that out of the $2^8 = 256$ possible results, we obtained 190 - which suggests a really high error rate. Indeed, when we calculate the total variation distance for this simulation, we get 0.48, which suggests an extremely high error."
   ]
  },
  {
   "cell_type": "code",
   "execution_count": 33,
   "metadata": {},
   "outputs": [
    {
     "name": "stdout",
     "output_type": "stream",
     "text": [
      "Total Variation Distance: 0.47550\n"
     ]
    },
    {
     "data": {
      "text/plain": [
       "0.4754971590909091"
      ]
     },
     "execution_count": 33,
     "metadata": {},
     "output_type": "execute_result"
    }
   ],
   "source": [
    "get_tvd(counts_ideal, counts_noise)"
   ]
  },
  {
   "cell_type": "markdown",
   "metadata": {},
   "source": [
    "If we do attempt to use this result to find possible periods, we get all possible values for the period from 1 to 15. The run with error has told us nothing at all about the factors of 15."
   ]
  },
  {
   "cell_type": "code",
   "execution_count": 34,
   "metadata": {},
   "outputs": [
    {
     "name": "stdout",
     "output_type": "stream",
     "text": [
      "        Phase Fraction  Guess for r\n",
      "0    0.941406    14/15           15\n",
      "1    0.617188     8/13           13\n",
      "2    0.976562      1/1            1\n",
      "3    0.367188     4/11           11\n",
      "4    0.429688      3/7            7\n",
      "..        ...      ...          ...\n",
      "185  0.808594      4/5            5\n",
      "186  0.757812      3/4            4\n",
      "187  0.445312      4/9            9\n",
      "188  0.562500      5/9            9\n",
      "189  0.750000      3/4            4\n",
      "\n",
      "[190 rows x 3 columns]\n",
      "15\n"
     ]
    }
   ],
   "source": [
    "result = get_phases(counts_noise, N_COUNT)\n",
    "print(result)\n",
    "print(len(result['Guess for r'].unique()))"
   ]
  },
  {
   "cell_type": "markdown",
   "metadata": {},
   "source": [
    "This speaks to how quantum errors are significantly limiting the power of quantum computing. With a circuit for a task as simple as factoring 15, a quantum computer with error can completely fail the task. We will need efficient methods for quantum error correction to fully exploit the power of quantum computing."
   ]
  },
  {
   "cell_type": "markdown",
   "metadata": {},
   "source": [
    "However, error correction codes are basically impossible to run on normal computers. In quantum computing, error correction codes often involve constructing logical qubits constiting of multiple qubits. One of the most powerful error-correcting codes is the Steane code, which requires 7 total qubits for the logical qubit, as well as 6 ancilla qubits for measuring parities. Running an algorithm on the order of $2^{13}$ with circuit depths of more than 1000 gates takes a very long time on normal computers. This scales exponentially with the number of qubits in the circuit. The Shor circuit we have above has 8 measured qubits, which means we would need space/time on the order of $2^{13\\cdot 8} \\approx 10^{31}$. This is impossible to run on almost any classical computer."
   ]
  },
  {
   "cell_type": "code",
   "execution_count": 35,
   "metadata": {},
   "outputs": [
    {
     "data": {
      "text/plain": [
       "(3298, 24035)"
      ]
     },
     "execution_count": 35,
     "metadata": {},
     "output_type": "execute_result"
    }
   ],
   "source": [
    "# check depth of transpiled Shor circuits\n",
    "t_qc.depth(), t_qc_noise.depth()"
   ]
  },
  {
   "cell_type": "markdown",
   "metadata": {},
   "source": [
    "The error correction part of this project is in the `Tests.ipynb` file, contained in the same folder. There, I lay out the noise-compatible Steane code. Take a look if it is of interest!"
   ]
  },
  {
   "cell_type": "markdown",
   "metadata": {},
   "source": [
    "# Conclusion"
   ]
  },
  {
   "cell_type": "markdown",
   "metadata": {},
   "source": [
    "In this project, I started from the basics of quantum error, constructed composite noise models from baisc quantum errors, then applied the thermal relaxation model on the famonus Shor algorithm to show that basic quantum errors can render powerful quantum algorithms useless. This simulation indicates the importance of error correction in building truly powerful quantum computers."
   ]
  }
 ],
 "metadata": {
  "kernelspec": {
   "display_name": "Python 3",
   "language": "python",
   "name": "python3"
  },
  "language_info": {
   "codemirror_mode": {
    "name": "ipython",
    "version": 3
   },
   "file_extension": ".py",
   "mimetype": "text/x-python",
   "name": "python",
   "nbconvert_exporter": "python",
   "pygments_lexer": "ipython3",
   "version": "3.11.5"
  }
 },
 "nbformat": 4,
 "nbformat_minor": 2
}
