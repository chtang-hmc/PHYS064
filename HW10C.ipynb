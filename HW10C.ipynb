{
 "cells": [
  {
   "cell_type": "markdown",
   "metadata": {},
   "source": [
    "<h1> Homework 10: Numerical PDEs <h1>"
   ]
  },
  {
   "cell_type": "code",
   "execution_count": 1,
   "metadata": {},
   "outputs": [],
   "source": [
    "import numpy as np\n",
    "import matplotlib.pyplot as plt"
   ]
  },
  {
   "cell_type": "markdown",
   "metadata": {},
   "source": [
    "## Problem 3\n",
    "\n",
    "Let's tackle the celebrated N-body problem where one studies the evolution of **N** particles that are interacting with a force that depends only on the nature of the particles and the distance between them. Applications includes star evolution in galaxies, solar systems, molecular dynamics, etc...\n",
    "\n",
    "(a) Write a function **step_update(pos, vel, acc, force, types, masses, dt, box_size)** that evolves an **N** particle sytem forward in time by a small time step **dt**.\n",
    "\n",
    "The potential we will use is Newtonian. To advance a time step, use the following simple algorithm\n",
    "\n",
    "$$\n",
    "r_i = r_i + v_i\\,dt + \\frac{1}{2}\\,a_i\\,dt^2\n",
    "$$\n",
    "\n",
    "where $i$ ranges between **1** and **d** for each particle. And\n",
    "\n",
    "$$\n",
    "v_i = v_i + \\frac{1}{2} \\left(a_i+a_i^{new}\\right)\\,dt\n",
    "$$\n",
    "\n",
    "where $a_i^{new}$ is the new acceleration of the particle computed from current force divided mass.\n",
    "\n",
    "Once these are computed, update the acceleration for each particle with force divided by mass. The function should also check that the particles stay in the box and reflect their velocities and accelerations when appropriate."
   ]
  },
  {
   "cell_type": "code",
   "execution_count": 31,
   "metadata": {},
   "outputs": [],
   "source": [
    "def step_update(pos, vel, acc, force, types, masses, dt, box_size):\n",
    "    # Inputs:\n",
    "    # \n",
    "    # pos, vel, acc, and force are N by d matrices, where d is \n",
    "    # the dimension of space (typically 3), representing respectively the positions, \n",
    "    # velocities, accelerations, and forces on each particle.\n",
    "    # types is an N dimensional array identifying the type of each particle \n",
    "    # by an integer; this integer is an index in the masses array to identify \n",
    "    # the masses of the types of particles. For example, for a single type of \n",
    "    # molecule, the masses array would have one element, and the types array \n",
    "    # would be N ones.\n",
    "    # masses is an array of masses; the size of the array corresponds to the \n",
    "    # number of types of particles on may have, as described in the previous \n",
    "    # paragraph.\n",
    "    # dt is the time step to advance.\n",
    "    # box_size is related to the size of the d dimensional cube in which the \n",
    "    # particles are confined; for example, the x coordinate would range between \n",
    "    # -box_size and +box_size. The particles reflect elastically on the walls of \n",
    "    # the box.\n",
    "    # \n",
    "    # Outputs:\n",
    "    # \n",
    "    # The function does not return anything. Instead, it updates the pos, vel, \n",
    "    # and acc matrices.\n",
    "\n",
    "    d = len(pos[0])\n",
    "    N = len(pos)\n",
    "    \n",
    "    pos += vel*dt + 0.5*acc*dt*dt\n",
    "    acc_new = force/np.array([[masses[t-1]] for t in types])\n",
    "    vel += 0.5*(acc + acc_new)*dt\n",
    "    acc = acc_new\n",
    "    # check all particles are in the box\n",
    "    for i in range(N):\n",
    "        for j in range(d):\n",
    "            if pos[i,j] < 0:\n",
    "                pos[i,j] = -pos[i,j]\n",
    "                vel[i,j] = -vel[i,j]\n",
    "                acc[i,j] = -acc[i,j]\n",
    "            if pos[i,j] >= box_size:\n",
    "                pos[i,j] = 2*box_size - pos[i,j]\n",
    "                vel[i,j] = -vel[i,j]\n",
    "                acc[i,j] = -acc[i,j]"
   ]
  },
  {
   "cell_type": "markdown",
   "metadata": {},
   "source": [
    "(b) Write a function compute_force(pos, vel, acc, interactions) which computes the force on each particle and returns an N by d array of these forces."
   ]
  },
  {
   "cell_type": "code",
   "execution_count": 34,
   "metadata": {},
   "outputs": [],
   "source": [
    "def compute_force(pos, vel, acc, interactions):\n",
    "\n",
    "    # Inputs:\n",
    "    # \n",
    "    # pos, vel, and acc are as described above.\n",
    "    # interactions is a square matrix which gives the interactions between any \n",
    "    # two types of particles. For example, if we have two types of particles with \n",
    "    # masses m1 and m2, and we use gravitational or coulombic forces between the \n",
    "    # particles, the force between two particles labeled i and j of type 1 and \n",
    "    # type 2 respectively would be\n",
    "    # \n",
    "    # -interactions[1,2]/rij^2\n",
    "    # \n",
    "    # where rij is the Euclidean distance between particles i and j. \n",
    "    # We include vel and acc to allow for modifications that include velocity \n",
    "    # and acceleration-dependent forces.\n",
    "    #\n",
    "    # Outputs:\n",
    "    #\n",
    "    # A N by d array of forces\n",
    "\n",
    "    d = len(pos[0])\n",
    "    N = len(pos)\n",
    "    force = np.zeros((N,d))\n",
    "    \n",
    "    for i in range(N):\n",
    "        for j in range(d):\n",
    "            rsquared = np.linalg.norm(pos[i]-pos[j])**2\n",
    "            force_ij = -interactions[i,j]/rsquared\n",
    "            force[i] += force_ij*(pos[i]-pos[j])/np.linalg.norm(pos[i]-pos[j])\n",
    "            force[j] -= force_ij*(pos[i]-pos[j])/np.linalg.norm(pos[i]-pos[j])\n",
    "    return force"
   ]
  },
  {
   "cell_type": "markdown",
   "metadata": {},
   "source": [
    "(c) Write a simulation function simulate(dt, tspan, pos0, vel0, types, masses, interactions) that runs the simulation with time step dt for a time interval tspan=(t0,tmax), initial position and velocity arrays given by pos0 and vel0, and the types, masses, and interactions arrays as described above"
   ]
  },
  {
   "cell_type": "code",
   "execution_count": 35,
   "metadata": {},
   "outputs": [],
   "source": [
    "def simulate(dt, tspan, pos0, vel0, types, masses, interactions):\n",
    "\n",
    "    # Inputs:\n",
    "    # \n",
    "    # dt: Time step\n",
    "    # tspan: A tuple (t0,tmax).\n",
    "    # pos0 and vel0: Initial position and velocity arrays.\n",
    "    # types, masses, and interactions: As described earlier.\n",
    "    # \n",
    "    # Outputs:\n",
    "    # \n",
    "    # The function should return an array of time snapshots of the positions \n",
    "    # for all particles.\n",
    "    \n",
    "    nsteps = int((tspan[1]-tspan[0])/dt)\n",
    "    d = len(pos0[0])\n",
    "    N = len(pos0)\n",
    "    pos = pos0.copy()\n",
    "    vel = vel0.copy()\n",
    "    acc = np.zeros((N,d))\n",
    "    \n",
    "    for step in range(nsteps):\n",
    "        force = compute_force(pos, vel, acc, interactions)\n",
    "        step_update(pos, vel, acc, force, types, masses, dt, 1)\n",
    "    return pos"
   ]
  },
  {
   "cell_type": "code",
   "execution_count": 40,
   "metadata": {},
   "outputs": [],
   "source": [
    "pos0 = np.matrix([[1.0, 0.0, 0.0], [0.0, 1.0, 0.0], [0.0, 0.0, 1.0]])\n",
    "vel0 = np.matrix([[-0.1, 0.0, 1.0], [1.0, -0.1, 0.0], [0.0, 1.0, -0.1]])\n",
    "types = [1, 2, 3]\n",
    "masses = [1.0, 0.5, 2.0]\n",
    "interactions = np.matrix([[1.0*masses[i]*masses[j] for i in range(len(masses))] for j in range(len(masses))])\n",
    "force = pos0\n",
    "dt = 0.01\n",
    "box_size = 10.0\n",
    "acc0 = force/np.array([[masses[t-1]] for t in types])"
   ]
  },
  {
   "cell_type": "code",
   "execution_count": 41,
   "metadata": {},
   "outputs": [
    {
     "name": "stderr",
     "output_type": "stream",
     "text": [
      "/var/folders/2f/cvmbnp4s1r362w323xc1fx800000gn/T/ipykernel_24478/4290503901.py:29: RuntimeWarning: divide by zero encountered in scalar divide\n",
      "  force_ij = -interactions[i,j]/rsquared\n",
      "/var/folders/2f/cvmbnp4s1r362w323xc1fx800000gn/T/ipykernel_24478/4290503901.py:30: RuntimeWarning: invalid value encountered in multiply\n",
      "  force[i] += force_ij*(pos[i]-pos[j])/np.linalg.norm(pos[i]-pos[j])\n"
     ]
    },
    {
     "ename": "ValueError",
     "evalue": "non-broadcastable output operand with shape (1,) doesn't match the broadcast shape (1,3)",
     "output_type": "error",
     "traceback": [
      "\u001b[0;31m---------------------------------------------------------------------------\u001b[0m",
      "\u001b[0;31mValueError\u001b[0m                                Traceback (most recent call last)",
      "Cell \u001b[0;32mIn[41], line 1\u001b[0m\n\u001b[0;32m----> 1\u001b[0m pos \u001b[38;5;241m=\u001b[39m \u001b[43msimulate\u001b[49m\u001b[43m(\u001b[49m\u001b[43mdt\u001b[49m\u001b[43m,\u001b[49m\u001b[43m \u001b[49m\u001b[43m(\u001b[49m\u001b[38;5;241;43m0\u001b[39;49m\u001b[43m,\u001b[49m\u001b[43m \u001b[49m\u001b[38;5;241;43m10\u001b[39;49m\u001b[43m)\u001b[49m\u001b[43m,\u001b[49m\u001b[43m \u001b[49m\u001b[43mpos0\u001b[49m\u001b[43m,\u001b[49m\u001b[43m \u001b[49m\u001b[43mvel0\u001b[49m\u001b[43m,\u001b[49m\u001b[43m \u001b[49m\u001b[43mtypes\u001b[49m\u001b[43m,\u001b[49m\u001b[43m \u001b[49m\u001b[43mmasses\u001b[49m\u001b[43m,\u001b[49m\u001b[43m \u001b[49m\u001b[43minteractions\u001b[49m\u001b[43m)\u001b[49m\n",
      "Cell \u001b[0;32mIn[35], line 23\u001b[0m, in \u001b[0;36msimulate\u001b[0;34m(dt, tspan, pos0, vel0, types, masses, interactions)\u001b[0m\n\u001b[1;32m     20\u001b[0m acc \u001b[38;5;241m=\u001b[39m np\u001b[38;5;241m.\u001b[39mzeros((N,d))\n\u001b[1;32m     22\u001b[0m \u001b[38;5;28;01mfor\u001b[39;00m step \u001b[38;5;129;01min\u001b[39;00m \u001b[38;5;28mrange\u001b[39m(nsteps):\n\u001b[0;32m---> 23\u001b[0m     force \u001b[38;5;241m=\u001b[39m \u001b[43mcompute_force\u001b[49m\u001b[43m(\u001b[49m\u001b[43mpos\u001b[49m\u001b[43m,\u001b[49m\u001b[43m \u001b[49m\u001b[43mvel\u001b[49m\u001b[43m,\u001b[49m\u001b[43m \u001b[49m\u001b[43macc\u001b[49m\u001b[43m,\u001b[49m\u001b[43m \u001b[49m\u001b[43minteractions\u001b[49m\u001b[43m)\u001b[49m\n\u001b[1;32m     24\u001b[0m     step_update(pos, vel, acc, force, types, masses, dt, \u001b[38;5;241m1\u001b[39m)\n\u001b[1;32m     25\u001b[0m \u001b[38;5;28;01mreturn\u001b[39;00m pos\n",
      "Cell \u001b[0;32mIn[34], line 30\u001b[0m, in \u001b[0;36mcompute_force\u001b[0;34m(pos, vel, acc, interactions)\u001b[0m\n\u001b[1;32m     28\u001b[0m         rsquared \u001b[38;5;241m=\u001b[39m np\u001b[38;5;241m.\u001b[39mlinalg\u001b[38;5;241m.\u001b[39mnorm(pos[i]\u001b[38;5;241m-\u001b[39mpos[j])\u001b[38;5;241m*\u001b[39m\u001b[38;5;241m*\u001b[39m\u001b[38;5;241m2\u001b[39m\n\u001b[1;32m     29\u001b[0m         force_ij \u001b[38;5;241m=\u001b[39m \u001b[38;5;241m-\u001b[39minteractions[i,j]\u001b[38;5;241m/\u001b[39mrsquared\n\u001b[0;32m---> 30\u001b[0m         \u001b[43mforce\u001b[49m\u001b[43m[\u001b[49m\u001b[43mi\u001b[49m\u001b[43m]\u001b[49m\u001b[43m \u001b[49m\u001b[38;5;241;43m+\u001b[39;49m\u001b[38;5;241;43m=\u001b[39;49m\u001b[43m \u001b[49m\u001b[43mforce_ij\u001b[49m\u001b[38;5;241;43m*\u001b[39;49m\u001b[43m(\u001b[49m\u001b[43mpos\u001b[49m\u001b[43m[\u001b[49m\u001b[43mi\u001b[49m\u001b[43m]\u001b[49m\u001b[38;5;241;43m-\u001b[39;49m\u001b[43mpos\u001b[49m\u001b[43m[\u001b[49m\u001b[43mj\u001b[49m\u001b[43m]\u001b[49m\u001b[43m)\u001b[49m\u001b[38;5;241;43m/\u001b[39;49m\u001b[43mnp\u001b[49m\u001b[38;5;241;43m.\u001b[39;49m\u001b[43mlinalg\u001b[49m\u001b[38;5;241;43m.\u001b[39;49m\u001b[43mnorm\u001b[49m\u001b[43m(\u001b[49m\u001b[43mpos\u001b[49m\u001b[43m[\u001b[49m\u001b[43mi\u001b[49m\u001b[43m]\u001b[49m\u001b[38;5;241;43m-\u001b[39;49m\u001b[43mpos\u001b[49m\u001b[43m[\u001b[49m\u001b[43mj\u001b[49m\u001b[43m]\u001b[49m\u001b[43m)\u001b[49m\n\u001b[1;32m     31\u001b[0m         force[j] \u001b[38;5;241m-\u001b[39m\u001b[38;5;241m=\u001b[39m force_ij\u001b[38;5;241m*\u001b[39m(pos[i]\u001b[38;5;241m-\u001b[39mpos[j])\u001b[38;5;241m/\u001b[39mnp\u001b[38;5;241m.\u001b[39mlinalg\u001b[38;5;241m.\u001b[39mnorm(pos[i]\u001b[38;5;241m-\u001b[39mpos[j])\n\u001b[1;32m     32\u001b[0m \u001b[38;5;28;01mreturn\u001b[39;00m force\n",
      "\u001b[0;31mValueError\u001b[0m: non-broadcastable output operand with shape (1,) doesn't match the broadcast shape (1,3)"
     ]
    }
   ],
   "source": [
    "pos = simulate(dt, (0, 10), pos0, vel0, types, masses, interactions)"
   ]
  },
  {
   "cell_type": "code",
   "execution_count": null,
   "metadata": {},
   "outputs": [],
   "source": []
  }
 ],
 "metadata": {
  "kernelspec": {
   "display_name": "base",
   "language": "python",
   "name": "python3"
  },
  "language_info": {
   "codemirror_mode": {
    "name": "ipython",
    "version": 3
   },
   "file_extension": ".py",
   "mimetype": "text/x-python",
   "name": "python",
   "nbconvert_exporter": "python",
   "pygments_lexer": "ipython3",
   "version": "3.11.5"
  }
 },
 "nbformat": 4,
 "nbformat_minor": 2
}
