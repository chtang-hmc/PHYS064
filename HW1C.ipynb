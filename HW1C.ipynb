{
 "cells": [
  {
   "cell_type": "markdown",
   "metadata": {},
   "source": [
    "The code below is written in Juila."
   ]
  },
  {
   "cell_type": "markdown",
   "metadata": {},
   "source": [
    "Problem 2: Calculating π^2/6. My result for 1000000 terms is 1.64493306684877."
   ]
  },
  {
   "cell_type": "code",
   "execution_count": 1,
   "metadata": {},
   "outputs": [
    {
     "data": {
      "text/plain": [
       "pi2by6 (generic function with 1 method)"
      ]
     },
     "metadata": {},
     "output_type": "display_data"
    }
   ],
   "source": [
    "# Problem 2\n",
    "function pi2by6(accuracy)\n",
    "# Inputs:\n",
    "#\n",
    "# accuracy: A number between 0 and 1 denoting the percent error in the result.\n",
    "# \n",
    "# Outputs:\n",
    "#  \n",
    "# Returns (value, N): \n",
    "#   value is an approximation to pi square over six.\n",
    "#   N is the number of terms used in the sum formula.\n",
    "\n",
    "    sum_terms = 0\n",
    "    for i = 1:accuracy\n",
    "        sum_terms += 1/(i^2)\n",
    "    end\n",
    "    return (sum_terms, accuracy)\n",
    "end"
   ]
  },
  {
   "cell_type": "markdown",
   "metadata": {},
   "source": [
    "Problem 4: Calculating Average Energy of Quantum Harmonic Oscillator. My result for 1000000 terms and b = 1 is 1.081976706869327."
   ]
  },
  {
   "cell_type": "code",
   "execution_count": 2,
   "metadata": {},
   "outputs": [
    {
     "data": {
      "text/plain": [
       "energy (generic function with 1 method)"
      ]
     },
     "metadata": {},
     "output_type": "display_data"
    }
   ],
   "source": [
    "# Problem 4\n",
    "function energy(terms, b)\n",
    "    # Inputs:\n",
    "    #\n",
    "    # terms: a positive non-zero number determining the desired precision \n",
    "    # as determined by the number of terms used in the sums above.\n",
    "    # b: The dimensionless quantity hbar omega over k_B T\n",
    "    #\n",
    "    # Outputs:\n",
    "    #\n",
    "    # Returns a floating point number that is the average energy per hbar omega\n",
    "    #\n",
    "    # Notice how we have ensured that the two arguments and output are all \n",
    "    # dimensionless quantities, measured in the appropriate scales in the problem.\n",
    "        Z = 0\n",
    "        for i = 0:terms\n",
    "            Z += exp(-b*(i+0.5))\n",
    "        end\n",
    "    \n",
    "        E_average = 0\n",
    "        for i = 0:terms\n",
    "            E_average += (i+0.5)*exp(-b*(i+0.5))\n",
    "        end\n",
    "    \n",
    "        return E_average/Z\n",
    "    end"
   ]
  }
 ],
 "metadata": {
  "kernelspec": {
   "display_name": "Julia 1.10.0",
   "language": "julia",
   "name": "julia-1.10"
  },
  "language_info": {
   "file_extension": ".jl",
   "mimetype": "application/julia",
   "name": "julia",
   "version": "1.10.0"
  }
 },
 "nbformat": 4,
 "nbformat_minor": 2
}
